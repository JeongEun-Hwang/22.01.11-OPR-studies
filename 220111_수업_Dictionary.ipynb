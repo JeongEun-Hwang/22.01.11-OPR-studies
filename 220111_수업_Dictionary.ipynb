{
  "nbformat": 4,
  "nbformat_minor": 0,
  "metadata": {
    "colab": {
      "name": "220111 수업_딕셔너리.ipynb",
      "provenance": [],
      "collapsed_sections": [],
      "authorship_tag": "ABX9TyPFNCUtkyKfhuf64TIsTedf",
      "include_colab_link": true
    },
    "kernelspec": {
      "name": "python3",
      "display_name": "Python 3"
    },
    "language_info": {
      "name": "python"
    }
  },
  "cells": [
    {
      "cell_type": "markdown",
      "metadata": {
        "id": "view-in-github",
        "colab_type": "text"
      },
      "source": [
        "<a href=\"https://colab.research.google.com/github/JeongEun-Hwang/22.01.11-OPR-studies/blob/master/220111_%EC%88%98%EC%97%85_Dictionary.ipynb\" target=\"_parent\"><img src=\"https://colab.research.google.com/assets/colab-badge.svg\" alt=\"Open In Colab\"/></a>"
      ]
    },
    {
      "cell_type": "markdown",
      "source": [
        "#딕셔너리(Dictionary)"
      ],
      "metadata": {
        "id": "6tTlsR6FjpFT"
      }
    },
    {
      "cell_type": "markdown",
      "source": [
        "##1.딕셔너리 만들기\n",
        "{key:value,key:vlaue...}\n",
        "[''',,,,]\n",
        "(1,2,3,4)"
      ],
      "metadata": {
        "id": "8CQN_4kbjuNq"
      }
    },
    {
      "cell_type": "code",
      "source": [
        "dic = {'name':'황정은','age':20, 'phone':\"010-1234-5678\",\"birth\":\"20220111\"}\n",
        "dic ={1:'황정은'}\n",
        "dic3={'a':[1,2,3]}"
      ],
      "metadata": {
        "id": "D8igqMQgKVCW"
      },
      "execution_count": null,
      "outputs": []
    },
    {
      "cell_type": "markdown",
      "source": [
        "## 2.추가하기"
      ],
      "metadata": {
        "id": "uNzYwQnTjztx"
      }
    },
    {
      "cell_type": "code",
      "source": [
        "dic4 ={1:'a'}\n",
        "dic4[2] ='b'\n",
        "\n",
        "dic4"
      ],
      "metadata": {
        "colab": {
          "base_uri": "https://localhost:8080/"
        },
        "id": "iaE99d6eKvey",
        "outputId": "4e3087f6-72c0-4225-82f3-711d70f1b01a"
      },
      "execution_count": null,
      "outputs": [
        {
          "output_type": "execute_result",
          "data": {
            "text/plain": [
              "{1: 'a', 2: 'b'}"
            ]
          },
          "metadata": {},
          "execution_count": 93
        }
      ]
    },
    {
      "cell_type": "code",
      "source": [
        "dic4['name'] ='황정은'\n",
        "dic4"
      ],
      "metadata": {
        "colab": {
          "base_uri": "https://localhost:8080/"
        },
        "id": "pmYS0AZqKvqn",
        "outputId": "39c3d1e0-dcdb-41f4-dd6a-753fe165971c"
      },
      "execution_count": null,
      "outputs": [
        {
          "output_type": "execute_result",
          "data": {
            "text/plain": [
              "{1: 'a', 2: 'b', 'name': '황정은'}"
            ]
          },
          "metadata": {},
          "execution_count": 91
        }
      ]
    },
    {
      "cell_type": "code",
      "source": [
        "dic4[3] = [1,2,3]\n",
        "dic4"
      ],
      "metadata": {
        "colab": {
          "base_uri": "https://localhost:8080/"
        },
        "id": "dv12X7peLEBP",
        "outputId": "bc5d0fc8-049a-4347-adec-23423d106351"
      },
      "execution_count": null,
      "outputs": [
        {
          "output_type": "execute_result",
          "data": {
            "text/plain": [
              "{1: 'a', 2: 'b', 3: [1, 2, 3]}"
            ]
          },
          "metadata": {},
          "execution_count": 95
        }
      ]
    },
    {
      "cell_type": "code",
      "source": [
        ""
      ],
      "metadata": {
        "id": "PDVhXzm_LEKW"
      },
      "execution_count": null,
      "outputs": []
    },
    {
      "cell_type": "code",
      "source": [
        ""
      ],
      "metadata": {
        "id": "f2DD53o0LESY"
      },
      "execution_count": null,
      "outputs": []
    },
    {
      "cell_type": "markdown",
      "source": [
        "## 3.삭제하기"
      ],
      "metadata": {
        "id": "wWcpkXfEUXw2"
      }
    },
    {
      "cell_type": "code",
      "execution_count": null,
      "metadata": {
        "colab": {
          "base_uri": "https://localhost:8080/"
        },
        "id": "iDJ1AFF9TbpT",
        "outputId": "507e1e40-d9e3-45fa-f0af-677cd719b13e"
      },
      "outputs": [
        {
          "output_type": "execute_result",
          "data": {
            "text/plain": [
              "{1: 'a', 3: [1, 2, 3]}"
            ]
          },
          "metadata": {},
          "execution_count": 96
        }
      ],
      "source": [
        "del dic4[2]\n",
        "dic4"
      ]
    },
    {
      "cell_type": "code",
      "source": [
        "a={1:'a',a:'b'}"
      ],
      "metadata": {
        "id": "o8U30QvfUTof",
        "colab": {
          "base_uri": "https://localhost:8080/",
          "height": 172
        },
        "outputId": "afdf3373-107e-4567-afbe-e266bf2f0fad"
      },
      "execution_count": null,
      "outputs": [
        {
          "output_type": "error",
          "ename": "TypeError",
          "evalue": "ignored",
          "traceback": [
            "\u001b[0;31m---------------------------------------------------------------------------\u001b[0m",
            "\u001b[0;31mTypeError\u001b[0m                                 Traceback (most recent call last)",
            "\u001b[0;32m<ipython-input-99-6bd80caf4842>\u001b[0m in \u001b[0;36m<module>\u001b[0;34m()\u001b[0m\n\u001b[0;32m----> 1\u001b[0;31m \u001b[0ma\u001b[0m\u001b[0;34m=\u001b[0m\u001b[0;34m{\u001b[0m\u001b[0;36m1\u001b[0m\u001b[0;34m:\u001b[0m\u001b[0;34m'a'\u001b[0m\u001b[0;34m,\u001b[0m\u001b[0ma\u001b[0m\u001b[0;34m:\u001b[0m\u001b[0;34m'b'\u001b[0m\u001b[0;34m}\u001b[0m\u001b[0;34m\u001b[0m\u001b[0;34m\u001b[0m\u001b[0m\n\u001b[0m",
            "\u001b[0;31mTypeError\u001b[0m: unhashable type: 'list'"
          ]
        }
      ]
    },
    {
      "cell_type": "markdown",
      "source": [
        "뒤에 있는 값이 덮어서 나온다\n",
        "키가 중복되도 오류는 나지 않는다.\n",
        "==> 키는 중복되며 않된다"
      ],
      "metadata": {
        "id": "HDzs9kMsUVPN"
      }
    },
    {
      "cell_type": "code",
      "source": [
        "a = {[1,2]:'hi'}\n",
        "a"
      ],
      "metadata": {
        "id": "MtJHaqZPU0x4",
        "colab": {
          "base_uri": "https://localhost:8080/",
          "height": 190
        },
        "outputId": "e66ab177-d361-4ca9-d4ba-7c25a7e1c851"
      },
      "execution_count": null,
      "outputs": [
        {
          "output_type": "error",
          "ename": "TypeError",
          "evalue": "ignored",
          "traceback": [
            "\u001b[0;31m---------------------------------------------------------------------------\u001b[0m",
            "\u001b[0;31mTypeError\u001b[0m                                 Traceback (most recent call last)",
            "\u001b[0;32m<ipython-input-100-d94be9fbe660>\u001b[0m in \u001b[0;36m<module>\u001b[0;34m()\u001b[0m\n\u001b[0;32m----> 1\u001b[0;31m \u001b[0ma\u001b[0m \u001b[0;34m=\u001b[0m \u001b[0;34m{\u001b[0m\u001b[0;34m[\u001b[0m\u001b[0;36m1\u001b[0m\u001b[0;34m,\u001b[0m\u001b[0;36m2\u001b[0m\u001b[0;34m]\u001b[0m\u001b[0;34m:\u001b[0m\u001b[0;34m'hi'\u001b[0m\u001b[0;34m}\u001b[0m\u001b[0;34m\u001b[0m\u001b[0;34m\u001b[0m\u001b[0m\n\u001b[0m\u001b[1;32m      2\u001b[0m \u001b[0ma\u001b[0m\u001b[0;34m\u001b[0m\u001b[0;34m\u001b[0m\u001b[0m\n",
            "\u001b[0;31mTypeError\u001b[0m: unhashable type: 'list'"
          ]
        }
      ]
    },
    {
      "cell_type": "markdown",
      "source": [
        "키는 무조건 값이 하나여야 한다.\n"
      ],
      "metadata": {
        "id": "J2DQafNSVN99"
      }
    },
    {
      "cell_type": "code",
      "source": [
        "a = {(1,2):'hi'}\n",
        "a"
      ],
      "metadata": {
        "colab": {
          "base_uri": "https://localhost:8080/"
        },
        "id": "wISG_0TXVdYr",
        "outputId": "85adf24b-42de-4227-d6f8-271167fe1de6"
      },
      "execution_count": null,
      "outputs": [
        {
          "output_type": "execute_result",
          "data": {
            "text/plain": [
              "{(1, 2): 'hi'}"
            ]
          },
          "metadata": {},
          "execution_count": 2
        }
      ]
    },
    {
      "cell_type": "markdown",
      "source": [
        "--> 사용하지 말것\n",
        "tuple은 불변하는 값이기 때문에 키에 사용할 수 있다. "
      ],
      "metadata": {
        "id": "6axQBdBsVn_t"
      }
    },
    {
      "cell_type": "code",
      "source": [
        "dic = {'name':'정영우','age':20, 'phone':\"010-1234-5678\",\"birth\":\"20220111\"}\n",
        "dic.keys()"
      ],
      "metadata": {
        "colab": {
          "base_uri": "https://localhost:8080/"
        },
        "id": "tt3DH_Y-Vm9b",
        "outputId": "ee2ab938-c5fd-46bb-f095-5f09dd48e98f"
      },
      "execution_count": null,
      "outputs": [
        {
          "output_type": "execute_result",
          "data": {
            "text/plain": [
              "dict_keys(['name', 'age', 'phone', 'birth'])"
            ]
          },
          "metadata": {},
          "execution_count": 3
        }
      ]
    },
    {
      "cell_type": "markdown",
      "source": [
        "키들을 "
      ],
      "metadata": {
        "id": "8_fD2RDdWFD8"
      }
    },
    {
      "cell_type": "code",
      "source": [
        "type(dic.keys())"
      ],
      "metadata": {
        "colab": {
          "base_uri": "https://localhost:8080/"
        },
        "id": "mR2bJWYYVuG8",
        "outputId": "fc50a219-9b9d-4d3e-8632-6a3451ece5ce"
      },
      "execution_count": null,
      "outputs": [
        {
          "output_type": "execute_result",
          "data": {
            "text/plain": [
              "dict_keys"
            ]
          },
          "metadata": {},
          "execution_count": 6
        }
      ]
    },
    {
      "cell_type": "code",
      "source": [
        "for d in  dic.keys():\n",
        "  print(d)"
      ],
      "metadata": {
        "colab": {
          "base_uri": "https://localhost:8080/"
        },
        "id": "a9R6FUtkVuZq",
        "outputId": "07145792-c2ae-4726-829c-e66ef9a30ef0"
      },
      "execution_count": null,
      "outputs": [
        {
          "output_type": "stream",
          "name": "stdout",
          "text": [
            "name\n",
            "age\n",
            "phone\n",
            "birth\n"
          ]
        }
      ]
    },
    {
      "cell_type": "markdown",
      "source": [
        "dic의 요소들을 하나씩 나열하는 방법\n",
        "d에 dic.keys 요소를 가져와서 print()한다는 의미"
      ],
      "metadata": {
        "id": "Nq5L5xjFWsz8"
      }
    },
    {
      "cell_type": "code",
      "source": [
        "list(dic.keys())"
      ],
      "metadata": {
        "colab": {
          "base_uri": "https://localhost:8080/"
        },
        "id": "Y_qfnwD7Wq99",
        "outputId": "dc0ba106-5433-4e63-c095-04d130c1f1c4"
      },
      "execution_count": null,
      "outputs": [
        {
          "output_type": "execute_result",
          "data": {
            "text/plain": [
              "['name', 'age', 'phone', 'birth']"
            ]
          },
          "metadata": {},
          "execution_count": 12
        }
      ]
    },
    {
      "cell_type": "markdown",
      "source": [
        "딕셔너리(키)를 리스트로 변환"
      ],
      "metadata": {
        "id": "IaARELBkXP7w"
      }
    },
    {
      "cell_type": "code",
      "source": [
        "dic.values()"
      ],
      "metadata": {
        "colab": {
          "base_uri": "https://localhost:8080/"
        },
        "id": "OHYd6erpW9zy",
        "outputId": "0c3076f1-077a-4599-d1ab-9c2789b89ade"
      },
      "execution_count": null,
      "outputs": [
        {
          "output_type": "execute_result",
          "data": {
            "text/plain": [
              "dict_values(['정영우', 20, '010-1234-5678', '20220111'])"
            ]
          },
          "metadata": {},
          "execution_count": 16
        }
      ]
    },
    {
      "cell_type": "markdown",
      "source": [
        "값들을 보는 방법 :value함수"
      ],
      "metadata": {
        "id": "bQVPwWFpXm4j"
      }
    },
    {
      "cell_type": "code",
      "source": [
        "type(dic.values())"
      ],
      "metadata": {
        "colab": {
          "base_uri": "https://localhost:8080/"
        },
        "id": "IEC4AGdpXAyL",
        "outputId": "1be2ebcb-6538-43e9-ef72-839597bd0f56"
      },
      "execution_count": null,
      "outputs": [
        {
          "output_type": "execute_result",
          "data": {
            "text/plain": [
              "dict_values"
            ]
          },
          "metadata": {},
          "execution_count": 18
        }
      ]
    },
    {
      "cell_type": "code",
      "source": [
        "dic.items()"
      ],
      "metadata": {
        "colab": {
          "base_uri": "https://localhost:8080/"
        },
        "id": "QzC95XkUXCSU",
        "outputId": "d7705f01-cf78-4461-8484-d1924df9b73c"
      },
      "execution_count": null,
      "outputs": [
        {
          "output_type": "execute_result",
          "data": {
            "text/plain": [
              "dict_items([('name', '정영우'), ('age', 20), ('phone', '010-1234-5678'), ('birth', '20220111')])"
            ]
          },
          "metadata": {},
          "execution_count": 19
        }
      ]
    },
    {
      "cell_type": "markdown",
      "source": [
        "키와 리스트를 한방에 얻는 방법\n",
        "('name', '정영우') =(키,value)\n",
        "마치 튜플처럼 보이지만 기본적으로 리턴값은 dic.items 값이다. "
      ],
      "metadata": {
        "id": "-KgAVeNqXrQn"
      }
    },
    {
      "cell_type": "code",
      "source": [
        "dic.clear()\n",
        "dic"
      ],
      "metadata": {
        "colab": {
          "base_uri": "https://localhost:8080/"
        },
        "id": "O4QTavDaYN-o",
        "outputId": "48947582-699c-4bc0-bbfd-1c0e537f6b19"
      },
      "execution_count": null,
      "outputs": [
        {
          "output_type": "execute_result",
          "data": {
            "text/plain": [
              "{}"
            ]
          },
          "metadata": {},
          "execution_count": 22
        }
      ]
    },
    {
      "cell_type": "markdown",
      "source": [
        "dic 값들을 모두 없앤다. "
      ],
      "metadata": {
        "id": "239_vUsmYSoW"
      }
    },
    {
      "cell_type": "code",
      "source": [
        "dic = {'name':'황정은','age':20, 'phone':\"010-1234-5678\",\"birth\":\"20220111\"}\n"
      ],
      "metadata": {
        "id": "ozgVEHzcYODF"
      },
      "execution_count": null,
      "outputs": []
    },
    {
      "cell_type": "code",
      "source": [
        "#이름을 얻고 싶은 경우\n",
        "#dic.get('name')\n",
        "dic['name']"
      ],
      "metadata": {
        "colab": {
          "base_uri": "https://localhost:8080/",
          "height": 35
        },
        "id": "Lr5Hh6IKYOnz",
        "outputId": "bf5ecce1-93ed-42dc-a272-8c487eb980af"
      },
      "execution_count": null,
      "outputs": [
        {
          "output_type": "execute_result",
          "data": {
            "application/vnd.google.colaboratory.intrinsic+json": {
              "type": "string"
            },
            "text/plain": [
              "'황정은'"
            ]
          },
          "metadata": {},
          "execution_count": 26
        }
      ]
    },
    {
      "cell_type": "code",
      "source": [
        "#\n",
        "dic['tel']"
      ],
      "metadata": {
        "colab": {
          "base_uri": "https://localhost:8080/",
          "height": 172
        },
        "id": "cYdPFO24Y1t5",
        "outputId": "a26d5257-4c04-4852-f968-a08c17652c3f"
      },
      "execution_count": null,
      "outputs": [
        {
          "output_type": "error",
          "ename": "KeyError",
          "evalue": "ignored",
          "traceback": [
            "\u001b[0;31m---------------------------------------------------------------------------\u001b[0m",
            "\u001b[0;31mKeyError\u001b[0m                                  Traceback (most recent call last)",
            "\u001b[0;32m<ipython-input-27-a97e506f9d99>\u001b[0m in \u001b[0;36m<module>\u001b[0;34m()\u001b[0m\n\u001b[0;32m----> 1\u001b[0;31m \u001b[0mdic\u001b[0m\u001b[0;34m[\u001b[0m\u001b[0;34m'tel'\u001b[0m\u001b[0;34m]\u001b[0m\u001b[0;34m\u001b[0m\u001b[0;34m\u001b[0m\u001b[0m\n\u001b[0m",
            "\u001b[0;31mKeyError\u001b[0m: 'tel'"
          ]
        }
      ]
    },
    {
      "cell_type": "code",
      "source": [
        "'name' in dic"
      ],
      "metadata": {
        "colab": {
          "base_uri": "https://localhost:8080/"
        },
        "id": "9OhNmL_TY188",
        "outputId": "20e40090-c76a-4ce8-d088-42ba6c8a2500"
      },
      "execution_count": null,
      "outputs": [
        {
          "output_type": "execute_result",
          "data": {
            "text/plain": [
              "True"
            ]
          },
          "metadata": {},
          "execution_count": 28
        }
      ]
    },
    {
      "cell_type": "markdown",
      "source": [
        "*값이 딕셔너리에 있는지 확인하는 명령어\n",
        "(__ ) in dic(딕셔너리 명)"
      ],
      "metadata": {
        "id": "CVJ3Z7l4ZyZ3"
      }
    },
    {
      "cell_type": "code",
      "source": [
        "'tel' in dic"
      ],
      "metadata": {
        "colab": {
          "base_uri": "https://localhost:8080/"
        },
        "id": "q0KSUNupZary",
        "outputId": "54c77d2e-3080-4041-bbd4-9d62276fe70e"
      },
      "execution_count": null,
      "outputs": [
        {
          "output_type": "execute_result",
          "data": {
            "text/plain": [
              "False"
            ]
          },
          "metadata": {},
          "execution_count": 30
        }
      ]
    },
    {
      "cell_type": "markdown",
      "source": [
        "### 퀴즈"
      ],
      "metadata": {
        "id": "xW6L4_0uaYR0"
      }
    },
    {
      "cell_type": "markdown",
      "source": [
        "#### 빈 딕셔너리 만들기"
      ],
      "metadata": {
        "id": "iRv5wHtxaqim"
      }
    },
    {
      "cell_type": "code",
      "source": [
        "tmp = []\n",
        "tmp"
      ],
      "metadata": {
        "colab": {
          "base_uri": "https://localhost:8080/"
        },
        "id": "oqR7qPZFY2LQ",
        "outputId": "5d611da4-8391-40f5-bdb8-245f3ad613f7"
      },
      "execution_count": null,
      "outputs": [
        {
          "output_type": "execute_result",
          "data": {
            "text/plain": [
              "[]"
            ]
          },
          "metadata": {},
          "execution_count": 33
        }
      ]
    },
    {
      "cell_type": "markdown",
      "source": [
        "#### 스타벅스 커피가격"
      ],
      "metadata": {
        "id": "ND7nNC3UbyPk"
      }
    },
    {
      "cell_type": "code",
      "source": [
        "#참조 \n",
        "#dic = {'nam':'황정은','age':20, 'phone':\"010-1234-5678\",\"birth\":\"20220111\"}\n",
        "#**딕셔너리 특징 ={'키 값':value값}**\n",
        "price ={'스타벅스 톨체라떼':5600,'화이트초콜릿모카':5600,'카페 모카' :5100}"
      ],
      "metadata": {
        "id": "R04IiYTAYOr1"
      },
      "execution_count": null,
      "outputs": []
    },
    {
      "cell_type": "markdown",
      "source": [
        "**딕셔너리 특징 ={'키 값':value값}**"
      ],
      "metadata": {
        "id": "6xG8Fz71c3qQ"
      }
    },
    {
      "cell_type": "code",
      "source": [
        "price"
      ],
      "metadata": {
        "colab": {
          "base_uri": "https://localhost:8080/"
        },
        "id": "mnTSqwfsbvys",
        "outputId": "eb0afaa9-6889-4e12-9bc5-c8d1c09bc2b9"
      },
      "execution_count": null,
      "outputs": [
        {
          "output_type": "execute_result",
          "data": {
            "text/plain": [
              "{'스타벅스 톨체라떼': 5600, '카페 모카': 5100, '화이트초콜릿모카': 5600}"
            ]
          },
          "metadata": {},
          "execution_count": 35
        }
      ]
    },
    {
      "cell_type": "code",
      "source": [
        "price.keys()"
      ],
      "metadata": {
        "colab": {
          "base_uri": "https://localhost:8080/"
        },
        "id": "aQdQmf07b5Ho",
        "outputId": "efb35268-8471-48d3-b926-61568ecde95d"
      },
      "execution_count": null,
      "outputs": [
        {
          "output_type": "execute_result",
          "data": {
            "text/plain": [
              "dict_keys(['스타벅스 톨체라떼', '화이트초콜릿모카', '카페 모카'])"
            ]
          },
          "metadata": {},
          "execution_count": 36
        }
      ]
    },
    {
      "cell_type": "code",
      "source": [
        "price.values()"
      ],
      "metadata": {
        "colab": {
          "base_uri": "https://localhost:8080/"
        },
        "id": "75a4efOmcF5u",
        "outputId": "9b20e2df-1a47-4ce5-b269-22c109427b72"
      },
      "execution_count": null,
      "outputs": [
        {
          "output_type": "execute_result",
          "data": {
            "text/plain": [
              "dict_values([5600, 5600, 5100])"
            ]
          },
          "metadata": {},
          "execution_count": 37
        }
      ]
    },
    {
      "cell_type": "code",
      "source": [
        "type(price)"
      ],
      "metadata": {
        "colab": {
          "base_uri": "https://localhost:8080/"
        },
        "id": "PWumwUmXcIFk",
        "outputId": "a0558dcb-9c73-4185-810b-25c5e5c627f8"
      },
      "execution_count": null,
      "outputs": [
        {
          "output_type": "execute_result",
          "data": {
            "text/plain": [
              "dict"
            ]
          },
          "metadata": {},
          "execution_count": 38
        }
      ]
    },
    {
      "cell_type": "markdown",
      "source": [
        "#### 라떼, 아메리카노 추가"
      ],
      "metadata": {
        "id": "pvcgGaTYdL_o"
      }
    },
    {
      "cell_type": "code",
      "source": [
        "price['카페라떼']=4600\n",
        "price['아메리카노']= 4100\n",
        "\n",
        "price"
      ],
      "metadata": {
        "colab": {
          "base_uri": "https://localhost:8080/"
        },
        "id": "a6klhbntdFtQ",
        "outputId": "b9ea2670-1248-408d-9b06-709042637f97"
      },
      "execution_count": null,
      "outputs": [
        {
          "output_type": "execute_result",
          "data": {
            "text/plain": [
              "{'스타벅스 톨체라떼': 5600,\n",
              " '아메리카노': 4100,\n",
              " '카페 모카': 5100,\n",
              " '카페라떼': 4600,\n",
              " '화이트초콜릿모카': 5600}"
            ]
          },
          "metadata": {},
          "execution_count": 44
        }
      ]
    },
    {
      "cell_type": "markdown",
      "source": [
        "딕셔너리의 순서는 키로만 접근하여 키의 순서대로 정렬된다. "
      ],
      "metadata": {
        "id": "qqDh5RmUeyiG"
      }
    },
    {
      "cell_type": "code",
      "source": [
        "price.keys()"
      ],
      "metadata": {
        "colab": {
          "base_uri": "https://localhost:8080/"
        },
        "id": "fiweoxH3dSda",
        "outputId": "9e6a5939-88b7-421c-efaa-257c217042cf"
      },
      "execution_count": null,
      "outputs": [
        {
          "output_type": "execute_result",
          "data": {
            "text/plain": [
              "dict_keys(['스타벅스 톨체라떼', '화이트초콜릿모카', '카페 모카', '카페라떼', '아메리카노'])"
            ]
          },
          "metadata": {},
          "execution_count": 45
        }
      ]
    },
    {
      "cell_type": "code",
      "source": [
        "price.values()"
      ],
      "metadata": {
        "colab": {
          "base_uri": "https://localhost:8080/"
        },
        "id": "-Yg4I8WhdSnr",
        "outputId": "47fecba5-fb69-469c-be89-e6d8d5b122f4"
      },
      "execution_count": null,
      "outputs": [
        {
          "output_type": "execute_result",
          "data": {
            "text/plain": [
              "dict_values([5600, 5600, 5100, 4600, 4100])"
            ]
          },
          "metadata": {},
          "execution_count": 46
        }
      ]
    },
    {
      "cell_type": "markdown",
      "source": [
        "####4. 아메리카노 가격\n"
      ],
      "metadata": {
        "id": "IgH0-wXRkg6S"
      }
    },
    {
      "cell_type": "code",
      "source": [
        "price['아메리카노']"
      ],
      "metadata": {
        "colab": {
          "base_uri": "https://localhost:8080/"
        },
        "id": "06PpK4cmeLtn",
        "outputId": "36dd7419-3167-4fe8-e2aa-49a05f74fb45"
      },
      "execution_count": null,
      "outputs": [
        {
          "output_type": "execute_result",
          "data": {
            "text/plain": [
              "4100"
            ]
          },
          "metadata": {},
          "execution_count": 47
        }
      ]
    },
    {
      "cell_type": "code",
      "source": [
        "price['아메리카노'] =(4100*0.9)\n",
        "#price['아메리카노'] =int(4100*0.9)\n",
        "price['아메리카노']"
      ],
      "metadata": {
        "colab": {
          "base_uri": "https://localhost:8080/"
        },
        "id": "LJnjA1KPjhPP",
        "outputId": "13db031c-b49e-429b-8270-f9beb68dae05"
      },
      "execution_count": null,
      "outputs": [
        {
          "output_type": "execute_result",
          "data": {
            "text/plain": [
              "3690"
            ]
          },
          "metadata": {},
          "execution_count": 50
        }
      ]
    },
    {
      "cell_type": "code",
      "source": [
        "#2\n",
        "print(price['아메리카노'*0.9])"
      ],
      "metadata": {
        "colab": {
          "base_uri": "https://localhost:8080/",
          "height": 190
        },
        "id": "f142OROskU7m",
        "outputId": "a5ae3ed2-5054-48f5-852c-9ad07b0cfbcd"
      },
      "execution_count": null,
      "outputs": [
        {
          "output_type": "error",
          "ename": "TypeError",
          "evalue": "ignored",
          "traceback": [
            "\u001b[0;31m---------------------------------------------------------------------------\u001b[0m",
            "\u001b[0;31mTypeError\u001b[0m                                 Traceback (most recent call last)",
            "\u001b[0;32m<ipython-input-49-f76b8b09b66c>\u001b[0m in \u001b[0;36m<module>\u001b[0;34m()\u001b[0m\n\u001b[1;32m      1\u001b[0m \u001b[0;31m#2\u001b[0m\u001b[0;34m\u001b[0m\u001b[0;34m\u001b[0m\u001b[0;34m\u001b[0m\u001b[0m\n\u001b[0;32m----> 2\u001b[0;31m \u001b[0mprint\u001b[0m\u001b[0;34m(\u001b[0m\u001b[0mprice\u001b[0m\u001b[0;34m[\u001b[0m\u001b[0;34m'아메리카노'\u001b[0m\u001b[0;34m*\u001b[0m\u001b[0;36m0.9\u001b[0m\u001b[0;34m]\u001b[0m\u001b[0;34m)\u001b[0m\u001b[0;34m\u001b[0m\u001b[0;34m\u001b[0m\u001b[0m\n\u001b[0m",
            "\u001b[0;31mTypeError\u001b[0m: can't multiply sequence by non-int of type 'float'"
          ]
        }
      ]
    },
    {
      "cell_type": "markdown",
      "source": [
        "#####4. 돌체라떼 삭제"
      ],
      "metadata": {
        "id": "hS4Zfur8l-Zo"
      }
    },
    {
      "cell_type": "code",
      "source": [
        "price ={'스타벅스 돌체라떼':5600,'화이트초콜릿모카':5600,'카페 모카' :5100}\n",
        "del price['스타벅스 돌체라떼']\n",
        "price"
      ],
      "metadata": {
        "colab": {
          "base_uri": "https://localhost:8080/"
        },
        "id": "4KuBXcN3kzwk",
        "outputId": "00f77978-a0de-41c9-f7cd-47271e9ac9b2"
      },
      "execution_count": null,
      "outputs": [
        {
          "output_type": "execute_result",
          "data": {
            "text/plain": [
              "{'카페 모카': 5100, '화이트초콜릿모카': 5600}"
            ]
          },
          "metadata": {},
          "execution_count": 54
        }
      ]
    },
    {
      "cell_type": "code",
      "source": [
        "price ={'스타벅스 돌체라떼':5600,'화이트초콜릿모카':5600,'카페 모카' :5100}\n",
        "price.pop('스타벅스 돌체라떼')\n",
        "price"
      ],
      "metadata": {
        "colab": {
          "base_uri": "https://localhost:8080/"
        },
        "id": "Bee5xm1lmJP8",
        "outputId": "03f0992a-0209-4766-997b-55762b961da0"
      },
      "execution_count": null,
      "outputs": [
        {
          "output_type": "execute_result",
          "data": {
            "text/plain": [
              "{'카페 모카': 5100, '화이트초콜릿모카': 5600}"
            ]
          },
          "metadata": {},
          "execution_count": 61
        }
      ]
    },
    {
      "cell_type": "code",
      "source": [
        "'스타벅스 돌체라떼' in price"
      ],
      "metadata": {
        "colab": {
          "base_uri": "https://localhost:8080/"
        },
        "id": "p_Itqn60mroz",
        "outputId": "ed34a2d6-1208-4108-fd59-c3004f68d7bc"
      },
      "execution_count": null,
      "outputs": [
        {
          "output_type": "execute_result",
          "data": {
            "text/plain": [
              "False"
            ]
          },
          "metadata": {},
          "execution_count": 62
        }
      ]
    },
    {
      "cell_type": "markdown",
      "source": [
        "#### 5. 가격2_톨 그란데, 벤티 가격 추가"
      ],
      "metadata": {
        "id": "dtce7Fk8mzvi"
      }
    },
    {
      "cell_type": "code",
      "source": [
        "price2 = {'돌체라떼' : {'톨' : 5600, '그란데' : 6100, '벤티' : 6600}, '초콜릿모카' : {'톨' : 5600, '그란데' : 6100, '벤티' : 6600}, '카페모카' : {'톨' : 5100, '그란데' : 5600, '벤티' :6100}}\n",
        "\n",
        "price"
      ],
      "metadata": {
        "colab": {
          "base_uri": "https://localhost:8080/"
        },
        "id": "N3tBA8Ummsur",
        "outputId": "5cb5f827-f72f-45db-e4c5-44487dab0f24"
      },
      "execution_count": null,
      "outputs": [
        {
          "output_type": "execute_result",
          "data": {
            "text/plain": [
              "{'돌체라떼': {'톨5600, 그란데6100원, 벤티6600원'},\n",
              " '카페모카': {'톨5100원, 그란데5600원, 벤티6100원'},\n",
              " '화이트초콜렛모카': {'톨5600원, 그란데6100원, 벤티6600원'}}"
            ]
          },
          "metadata": {},
          "execution_count": 67
        }
      ]
    },
    {
      "cell_type": "code",
      "source": [
        "price['돌체라떼']"
      ],
      "metadata": {
        "colab": {
          "base_uri": "https://localhost:8080/"
        },
        "id": "MwAkTb_Amsbn",
        "outputId": "e1dfcc84-703d-4b1e-a3dd-bd6be9875101"
      },
      "execution_count": null,
      "outputs": [
        {
          "output_type": "execute_result",
          "data": {
            "text/plain": [
              "{'톨5600, 그란데6100원, 벤티6600원'}"
            ]
          },
          "metadata": {},
          "execution_count": 68
        }
      ]
    },
    {
      "cell_type": "code",
      "source": [
        "price.values()"
      ],
      "metadata": {
        "colab": {
          "base_uri": "https://localhost:8080/"
        },
        "id": "XeLXM62nqAC7",
        "outputId": "933bc564-905d-4497-8cea-80a9bcc6d1fd"
      },
      "execution_count": null,
      "outputs": [
        {
          "output_type": "execute_result",
          "data": {
            "text/plain": [
              "dict_values([{'톨5600, 그란데6100원, 벤티6600원'}, {'톨5600원, 그란데6100원, 벤티6600원'}, {'톨5100원, 그란데5600원, 벤티6100원'}])"
            ]
          },
          "metadata": {},
          "execution_count": 72
        }
      ]
    },
    {
      "cell_type": "code",
      "source": [
        ""
      ],
      "metadata": {
        "id": "omirucEQp7xg"
      },
      "execution_count": null,
      "outputs": []
    },
    {
      "cell_type": "markdown",
      "source": [
        "####6.사이즈,가격 추가하기"
      ],
      "metadata": {
        "id": "y8CmXLMYtTiA"
      }
    },
    {
      "cell_type": "code",
      "source": [
        "list_price ={'돌체 라떼':[5600,6100,6600],'초콜릿 모카' :[5600,6100,6600],'카페모카':[5100,5600,6100]}"
      ],
      "metadata": {
        "id": "2KBkJa_Emr7K"
      },
      "execution_count": null,
      "outputs": []
    },
    {
      "cell_type": "code",
      "source": [
        "dic_price = {'돌체 라떼':{'톨':5600,'그란데':6100,'벤티':6600},'초콜릿모카':{'톨':5600,'그란데':6100,'벤티':6600},'카페모카':{'톨':5100,'그란데':5600,'벤티':6100}}"
      ],
      "metadata": {
        "id": "ssN3-UrEugl9"
      },
      "execution_count": null,
      "outputs": []
    },
    {
      "cell_type": "code",
      "source": [
        ""
      ],
      "metadata": {
        "id": "eiKsW5gv13gq"
      },
      "execution_count": null,
      "outputs": []
    },
    {
      "cell_type": "markdown",
      "source": [
        "price['카페모카']['벤티'] 출력하기\n"
      ],
      "metadata": {
        "id": "_RdDl1V4tXZj"
      }
    },
    {
      "cell_type": "code",
      "source": [
        "price['카페모카']['벤티']"
      ],
      "metadata": {
        "colab": {
          "base_uri": "https://localhost:8080/",
          "height": 172
        },
        "id": "rNEbMPBpu4zx",
        "outputId": "1a727705-1f2b-46cc-d5fa-20195f618cbd"
      },
      "execution_count": null,
      "outputs": [
        {
          "output_type": "error",
          "ename": "TypeError",
          "evalue": "ignored",
          "traceback": [
            "\u001b[0;31m---------------------------------------------------------------------------\u001b[0m",
            "\u001b[0;31mTypeError\u001b[0m                                 Traceback (most recent call last)",
            "\u001b[0;32m<ipython-input-88-358e9bb636b3>\u001b[0m in \u001b[0;36m<module>\u001b[0;34m()\u001b[0m\n\u001b[0;32m----> 1\u001b[0;31m \u001b[0mprice\u001b[0m\u001b[0;34m[\u001b[0m\u001b[0;34m'카페모카'\u001b[0m\u001b[0;34m]\u001b[0m\u001b[0;34m[\u001b[0m\u001b[0;34m'벤티'\u001b[0m\u001b[0;34m]\u001b[0m\u001b[0;34m\u001b[0m\u001b[0;34m\u001b[0m\u001b[0m\n\u001b[0m",
            "\u001b[0;31mTypeError\u001b[0m: 'set' object is not subscriptable"
          ]
        }
      ]
    },
    {
      "cell_type": "code",
      "source": [
        ""
      ],
      "metadata": {
        "id": "Hxs6ESvBsfsw"
      },
      "execution_count": null,
      "outputs": []
    },
    {
      "cell_type": "markdown",
      "source": [
        "####7. 라떼, 아메리카노 추가하기"
      ],
      "metadata": {
        "id": "xA_SpGvttZix"
      }
    },
    {
      "cell_type": "code",
      "source": [
        "list_price['카페라떼']=[4600,5100,5600]\n",
        "\n",
        "list_price['아메리카노']=[4100,4600,5100]\n"
      ],
      "metadata": {
        "id": "MmdC_JUzt8Fz"
      },
      "execution_count": null,
      "outputs": []
    },
    {
      "cell_type": "markdown",
      "source": [
        "####8. 메뉴명을 리스트로 가져오기"
      ],
      "metadata": {
        "id": "LU2WXP-HvCQv"
      }
    },
    {
      "cell_type": "code",
      "source": [
        "list(price.keys())"
      ],
      "metadata": {
        "colab": {
          "base_uri": "https://localhost:8080/"
        },
        "id": "_Rrn_MpNvIZH",
        "outputId": "2f000cda-d743-45c2-8495-7edadcedae30"
      },
      "execution_count": null,
      "outputs": [
        {
          "output_type": "execute_result",
          "data": {
            "text/plain": [
              "['돌체라떼', '화이트초콜렛모카', '카페모카']"
            ]
          },
          "metadata": {},
          "execution_count": 80
        }
      ]
    },
    {
      "cell_type": "code",
      "source": [
        "list(dic_price.keys())"
      ],
      "metadata": {
        "id": "aVUgV6ZfvPa7"
      },
      "execution_count": null,
      "outputs": []
    },
    {
      "cell_type": "markdown",
      "source": [
        "####9. 가격을 리스트로 가져오기"
      ],
      "metadata": {
        "id": "j-yf6BvjzkJh"
      }
    },
    {
      "cell_type": "code",
      "source": [
        "list(iist_price.values())"
      ],
      "metadata": {
        "id": "jtBDrm7ezoVO"
      },
      "execution_count": null,
      "outputs": []
    },
    {
      "cell_type": "code",
      "source": [
        "list()"
      ],
      "metadata": {
        "id": "Er9tkJBFzovz"
      },
      "execution_count": null,
      "outputs": []
    },
    {
      "cell_type": "code",
      "source": [
        ""
      ],
      "metadata": {
        "id": "uXRdwVIgzo2T"
      },
      "execution_count": null,
      "outputs": []
    },
    {
      "cell_type": "code",
      "source": [
        ""
      ],
      "metadata": {
        "id": "-GykFv40zo87"
      },
      "execution_count": null,
      "outputs": []
    },
    {
      "cell_type": "markdown",
      "source": [
        "========================"
      ],
      "metadata": {
        "id": "NRXrQgbK04nE"
      }
    }
  ]
}